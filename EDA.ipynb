{
 "cells": [
  {
   "cell_type": "code",
   "execution_count": 1,
   "metadata": {},
   "outputs": [],
   "source": [
    "import numpy as np\n",
    "import pandas as pd\n",
    "import PIL as pil\n",
    "import glob\n",
    "from PIL import Image\n",
    "from pandas import DataFrame"
   ]
  },
  {
   "cell_type": "code",
   "execution_count": 2,
   "metadata": {},
   "outputs": [
    {
     "data": {
      "text/html": [
       "<div>\n",
       "<style scoped>\n",
       "    .dataframe tbody tr th:only-of-type {\n",
       "        vertical-align: middle;\n",
       "    }\n",
       "\n",
       "    .dataframe tbody tr th {\n",
       "        vertical-align: top;\n",
       "    }\n",
       "\n",
       "    .dataframe thead th {\n",
       "        text-align: right;\n",
       "    }\n",
       "</style>\n",
       "<table border=\"1\" class=\"dataframe\">\n",
       "  <thead>\n",
       "    <tr style=\"text-align: right;\">\n",
       "      <th></th>\n",
       "      <th>id</th>\n",
       "      <th>label</th>\n",
       "    </tr>\n",
       "  </thead>\n",
       "  <tbody>\n",
       "    <tr>\n",
       "      <th>0</th>\n",
       "      <td>f38a6374c348f90b587e046aac6079959adf3835</td>\n",
       "      <td>0</td>\n",
       "    </tr>\n",
       "    <tr>\n",
       "      <th>1</th>\n",
       "      <td>c18f2d887b7ae4f6742ee445113fa1aef383ed77</td>\n",
       "      <td>1</td>\n",
       "    </tr>\n",
       "    <tr>\n",
       "      <th>2</th>\n",
       "      <td>755db6279dae599ebb4d39a9123cce439965282d</td>\n",
       "      <td>0</td>\n",
       "    </tr>\n",
       "    <tr>\n",
       "      <th>3</th>\n",
       "      <td>bc3f0c64fb968ff4a8bd33af6971ecae77c75e08</td>\n",
       "      <td>0</td>\n",
       "    </tr>\n",
       "    <tr>\n",
       "      <th>4</th>\n",
       "      <td>068aba587a4950175d04c680d38943fd488d6a9d</td>\n",
       "      <td>0</td>\n",
       "    </tr>\n",
       "  </tbody>\n",
       "</table>\n",
       "</div>"
      ],
      "text/plain": [
       "                                         id  label\n",
       "0  f38a6374c348f90b587e046aac6079959adf3835      0\n",
       "1  c18f2d887b7ae4f6742ee445113fa1aef383ed77      1\n",
       "2  755db6279dae599ebb4d39a9123cce439965282d      0\n",
       "3  bc3f0c64fb968ff4a8bd33af6971ecae77c75e08      0\n",
       "4  068aba587a4950175d04c680d38943fd488d6a9d      0"
      ]
     },
     "execution_count": 2,
     "metadata": {},
     "output_type": "execute_result"
    }
   ],
   "source": [
    "labels = pd.read_csv(\"C:/Users/deli/OneDrive - Eastside Preparatory School/10th grade/Topics in Computer Science/Final Project/train/_labels.csv\")\n",
    "files = glob.glob(\"C:/Users/deli/OneDrive - Eastside Preparatory School/10th grade/Topics in Computer Science/Final Project/train/*.tif\")\n",
    "images = []\n",
    "n = 0\n",
    "for myFile in files:\n",
    "    image = Image.open(myFile)\n",
    "    #look up label for myFile in labels\n",
    "    label = labels.iat[n, 1]\n",
    "    images.append((image, label))\n",
    "    n = n+1\n",
    "    if n==20:\n",
    "        break\n",
    "\n",
    "images = DataFrame(images,columns=['images','label'])\n",
    "labels.head()\n",
    "\n",
    "#Train data\n",
    "# train = []\n",
    "# train_labels = []\n",
    "# files = glob.glob (\"/data/train/class1/*.png\") # your image path\n",
    "# for myFile in files:\n",
    "# image = cv2.imread (myFile)\n",
    "#  train.append (image)\n",
    "#  train_labels.append([1., 0.])\n",
    "# files = glob.glob (\"/data/train/class2/*.png\")\n",
    "# for myFile in files:\n",
    "# image = cv2.imread (myFile)\n",
    "#  train.append (image)\n",
    "#  train_labels.append([0., 1.])\n",
    "# train = np.array(train,dtype='float32') #as mnist\n",
    "# train_labels = np.array(train_labels,dtype='float64') #as mnist"
   ]
  },
  {
   "cell_type": "code",
   "execution_count": 6,
   "metadata": {},
   "outputs": [
    {
     "name": "stdout",
     "output_type": "stream",
     "text": [
      "[[[[248 183 213]\n",
      "   [234 167 198]\n",
      "   [195 128 159]\n",
      "   ...\n",
      "   [225 168 187]\n",
      "   [193 125 148]\n",
      "   [236 161 184]]\n",
      "\n",
      "  [[193 134 162]\n",
      "   [255 223 251]\n",
      "   [162 101 132]\n",
      "   ...\n",
      "   [190 131 153]\n",
      "   [248 183 205]\n",
      "   [229 155 180]]\n",
      "\n",
      "  [[141  91 116]\n",
      "   [255 218 246]\n",
      "   [162 107 136]\n",
      "   ...\n",
      "   [219 157 182]\n",
      "   [208 142 169]\n",
      "   [194 124 152]]\n",
      "\n",
      "  ...\n",
      "\n",
      "  [[124  58  96]\n",
      "   [171 101 138]\n",
      "   [225 151 188]\n",
      "   ...\n",
      "   [186 119 152]\n",
      "   [191 124 159]\n",
      "   [199 132 167]]\n",
      "\n",
      "  [[ 97  40  75]\n",
      "   [ 93  31  68]\n",
      "   [152  82 118]\n",
      "   ...\n",
      "   [194 123 157]\n",
      "   [208 138 175]\n",
      "   [202 131 171]]\n",
      "\n",
      "  [[ 75  23  59]\n",
      "   [105  49  84]\n",
      "   [192 127 161]\n",
      "   ...\n",
      "   [183 109 146]\n",
      "   [219 147 185]\n",
      "   [148  77 119]]]]\n"
     ]
    },
    {
     "data": {
      "text/plain": [
       "(20, 96, 96, 3)"
      ]
     },
     "execution_count": 6,
     "metadata": {},
     "output_type": "execute_result"
    }
   ],
   "source": [
    "from numpy import asarray\n",
    "temp = np.array([asarray(images.iat[0,0])])\n",
    "print(temp)\n",
    "for i in range(19):\n",
    "    temp = np.concatenate((temp, np.array([asarray(images.iat[i+1,0])])), axis=0)\n",
    "temp.shape"
   ]
  },
  {
   "cell_type": "code",
   "execution_count": 8,
   "metadata": {},
   "outputs": [
    {
     "data": {
      "text/plain": [
       "27648"
      ]
     },
     "execution_count": 8,
     "metadata": {},
     "output_type": "execute_result"
    }
   ],
   "source": [
    "np.sum(temp, axis=0).size"
   ]
  }
 ],
 "metadata": {
  "kernelspec": {
   "display_name": "Python 3",
   "language": "python",
   "name": "python3"
  },
  "language_info": {
   "codemirror_mode": {
    "name": "ipython",
    "version": 3
   },
   "file_extension": ".py",
   "mimetype": "text/x-python",
   "name": "python",
   "nbconvert_exporter": "python",
   "pygments_lexer": "ipython3",
   "version": "3.8.5"
  }
 },
 "nbformat": 4,
 "nbformat_minor": 4
}
